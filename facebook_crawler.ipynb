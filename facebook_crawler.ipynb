{
 "cells": [
  {
   "cell_type": "markdown",
   "metadata": {},
   "source": [
    "# Facebook Feed-Text Crawler"
   ]
  },
  {
   "cell_type": "code",
   "execution_count": 80,
   "metadata": {
    "collapsed": false
   },
   "outputs": [],
   "source": [
    "import facebook, requests, time, random "
   ]
  },
  {
   "cell_type": "code",
   "execution_count": null,
   "metadata": {
    "collapsed": true
   },
   "outputs": [],
   "source": [
    "# page you want to crawl\n",
    "req = 'B90DieGruenen'"
   ]
  },
  {
   "cell_type": "markdown",
   "metadata": {},
   "source": [
    "get accestoken from the facebook graph api\n",
    "\n",
    "* https://developers.facebook.com/tools/explorer?method=GET&path=&version=v2.12"
   ]
  },
  {
   "cell_type": "code",
   "execution_count": 30,
   "metadata": {
    "collapsed": false
   },
   "outputs": [],
   "source": [
    "token = ''\n",
    "graph = facebook.GraphAPI(access_token=token, version=2.1)"
   ]
  },
  {
   "cell_type": "markdown",
   "metadata": {},
   "source": [
    "define crawling function"
   ]
  },
  {
   "cell_type": "code",
   "execution_count": 40,
   "metadata": {
    "collapsed": true
   },
   "outputs": [],
   "source": [
    "fb = 'https://graph.facebook.com/v2.11/'\n",
    "param = '/?access_token=%s' % token\n",
    "def req_fb(req):\n",
    "    r = requests.get(fb + req + '/feed' +param #, {'acces_token' : token}\n",
    "                    )\n",
    "    return r"
   ]
  },
  {
   "cell_type": "code",
   "execution_count": 41,
   "metadata": {
    "collapsed": true
   },
   "outputs": [],
   "source": [
    "results = req_fb(req).json()"
   ]
  },
  {
   "cell_type": "code",
   "execution_count": 68,
   "metadata": {
    "collapsed": false
   },
   "outputs": [
    {
     "data": {
      "text/plain": [
       "{'created_time': '2018-03-16T13:10:21+0000',\n",
       " 'id': '47217143218_10157122413453219',\n",
       " 'message': 'Kaum einen Tag #Heimatminister, schon beginnt Horst #Seehofer die Gesellschaft rhetorisch zu spalten. \\nTeilt das Video für ein Deutschland, zu dem wir alle gehören! Egal, an was wir glauben.'}"
      ]
     },
     "execution_count": 68,
     "metadata": {},
     "output_type": "execute_result"
    }
   ],
   "source": [
    "results['data'][2]"
   ]
  },
  {
   "cell_type": "code",
   "execution_count": 66,
   "metadata": {
    "collapsed": false,
    "scrolled": true
   },
   "outputs": [],
   "source": [
    "message = [t['message'] for t in results['data'] if 'message' in t.keys()]"
   ]
  },
  {
   "cell_type": "code",
   "execution_count": 71,
   "metadata": {
    "collapsed": false
   },
   "outputs": [
    {
     "data": {
      "text/plain": [
       "['\"Schweigen ist in einer Zeit wie heute Rechtgeben.\" schreibt Robert Habeck in seinem Blog über Sprache, Politik und Uwe Tellkamp.',\n",
       " 'Kaum einen Tag #Heimatminister, schon beginnt Horst #Seehofer die Gesellschaft rhetorisch zu spalten.  Teilt das Video für ein Deutschland, zu dem wir alle gehören! Egal, an was wir glauben.']"
      ]
     },
     "execution_count": 71,
     "metadata": {},
     "output_type": "execute_result"
    }
   ],
   "source": [
    "message = [mes.replace('\\n',' ') for mes in message]\n",
    "message[:2]"
   ]
  },
  {
   "cell_type": "markdown",
   "metadata": {},
   "source": [
    "loop through the pages and create a list of the texts"
   ]
  },
  {
   "cell_type": "code",
   "execution_count": null,
   "metadata": {
    "collapsed": false
   },
   "outputs": [],
   "source": [
    "data = []\n",
    "results = req_fb(req).json()\n",
    "i = 0\n",
    "while True:\n",
    "    try:\n",
    "        time.sleep(random.randint(2,5))\n",
    "        message = [t['message'].replace('\\n',' ') for t in results['data'] if 'message' in t.keys()]\n",
    "        data.extend(message)\n",
    "        r = requests.get(results['paging']['next'])\n",
    "        results = r.json()\n",
    "        #print(message[:1])\n",
    "        i = i+1\n",
    "        \n",
    "        if i > 50: break\n",
    "    except:\n",
    "        print('done')\n",
    "        break"
   ]
  },
  {
   "cell_type": "code",
   "execution_count": null,
   "metadata": {
    "collapsed": false
   },
   "outputs": [],
   "source": [
    "data"
   ]
  },
  {
   "cell_type": "code",
   "execution_count": null,
   "metadata": {
    "collapsed": true
   },
   "outputs": [],
   "source": []
  }
 ],
 "metadata": {
  "kernelspec": {
   "display_name": "Python 3",
   "language": "python",
   "name": "python3"
  },
  "language_info": {
   "codemirror_mode": {
    "name": "ipython",
    "version": 3
   },
   "file_extension": ".py",
   "mimetype": "text/x-python",
   "name": "python",
   "nbconvert_exporter": "python",
   "pygments_lexer": "ipython3",
   "version": "3.6.1"
  }
 },
 "nbformat": 4,
 "nbformat_minor": 2
}
