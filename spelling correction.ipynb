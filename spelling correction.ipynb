{
 "cells": [
  {
   "cell_type": "markdown",
   "metadata": {},
   "source": [
    "## statistical spelling correction"
   ]
  },
  {
   "cell_type": "code",
   "execution_count": 1,
   "metadata": {
    "collapsed": true
   },
   "outputs": [],
   "source": [
    "import spelling "
   ]
  },
  {
   "cell_type": "code",
   "execution_count": 2,
   "metadata": {
    "collapsed": true
   },
   "outputs": [],
   "source": [
    "punctuation_tokens = ['..', '...', ';', ':', '(', ')', '\"', '\\'', '[', ']',\n",
    "                      '{', '}',  '-', '–', '+', '*', '--', '\\'\\'', '``', '/']\n",
    "punctuation_tokens2= ('.', ',', '?', '!')\n",
    "def remove_sonderzeichen(line):\n",
    "    doc = []\n",
    "    for w in line:\n",
    "        if str(w) in punctuation_tokens:\n",
    "            w = ' '\n",
    "        doc.append(w)\n",
    "    line = ''.join(w for w in doc)\n",
    "    return(line)\n",
    "    #return ''.join(c for c in line if c not in punctuation_tokens)\n"
   ]
  },
  {
   "cell_type": "code",
   "execution_count": 3,
   "metadata": {
    "collapsed": true
   },
   "outputs": [],
   "source": [
    "def spelling_line(line):\n",
    "    sen = []\n",
    "    for word in line.split():\n",
    "        pkt = ''\n",
    "        if word.endswith(punctuation_tokens2):\n",
    "            pkt = word[len(word)-1:]\n",
    "            word = word[:len(word)-1]\n",
    "        word = spelling.correction(word.lower())\n",
    "        word = str(word)+str(pkt)\n",
    "        sen.append(word)\n",
    "    sent = ' '.join(w for w in sen)\n",
    "    return sent"
   ]
  },
  {
   "cell_type": "code",
   "execution_count": 8,
   "metadata": {
    "collapsed": false
   },
   "outputs": [
    {
     "data": {
      "text/plain": [
       "'der frühe vogel hängt den worm.'"
      ]
     },
     "execution_count": 8,
     "metadata": {},
     "output_type": "execute_result"
    }
   ],
   "source": [
    "spelling_line('Der flühe Vogeld vängt den Worm.')"
   ]
  },
  {
   "cell_type": "code",
   "execution_count": null,
   "metadata": {
    "collapsed": true
   },
   "outputs": [],
   "source": []
  },
  {
   "cell_type": "code",
   "execution_count": null,
   "metadata": {
    "collapsed": true
   },
   "outputs": [],
   "source": []
  },
  {
   "cell_type": "code",
   "execution_count": null,
   "metadata": {
    "collapsed": true
   },
   "outputs": [],
   "source": []
  }
 ],
 "metadata": {
  "kernelspec": {
   "display_name": "Python [conda root]",
   "language": "python",
   "name": "conda-root-py"
  },
  "language_info": {
   "codemirror_mode": {
    "name": "ipython",
    "version": 3
   },
   "file_extension": ".py",
   "mimetype": "text/x-python",
   "name": "python",
   "nbconvert_exporter": "python",
   "pygments_lexer": "ipython3",
   "version": "3.5.2"
  }
 },
 "nbformat": 4,
 "nbformat_minor": 1
}
